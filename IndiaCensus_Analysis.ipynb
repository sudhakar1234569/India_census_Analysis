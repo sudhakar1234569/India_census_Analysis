{
 "cells": [
  {
   "cell_type": "code",
   "execution_count": null,
   "metadata": {},
   "outputs": [],
   "source": []
  },
  {
   "cell_type": "code",
   "execution_count": 1,
   "metadata": {},
   "outputs": [],
   "source": [
    "import pandas as pd"
   ]
  },
  {
   "cell_type": "code",
   "execution_count": 4,
   "metadata": {},
   "outputs": [
    {
     "data": {
      "text/html": [
       "<div>\n",
       "<style scoped>\n",
       "    .dataframe tbody tr th:only-of-type {\n",
       "        vertical-align: middle;\n",
       "    }\n",
       "\n",
       "    .dataframe tbody tr th {\n",
       "        vertical-align: top;\n",
       "    }\n",
       "\n",
       "    .dataframe thead th {\n",
       "        text-align: right;\n",
       "    }\n",
       "</style>\n",
       "<table border=\"1\" class=\"dataframe\">\n",
       "  <thead>\n",
       "    <tr style=\"text-align: right;\">\n",
       "      <th></th>\n",
       "      <th>District_code</th>\n",
       "      <th>State_name</th>\n",
       "      <th>District_name</th>\n",
       "      <th>Population</th>\n",
       "      <th>Male</th>\n",
       "      <th>Female</th>\n",
       "      <th>Literate</th>\n",
       "      <th>Workers</th>\n",
       "      <th>Male_Workers</th>\n",
       "      <th>Female_Workers</th>\n",
       "      <th>...</th>\n",
       "      <th>Christians</th>\n",
       "      <th>Sikhs</th>\n",
       "      <th>Buddhists</th>\n",
       "      <th>Jains</th>\n",
       "      <th>Secondary_Education</th>\n",
       "      <th>Higher_Education</th>\n",
       "      <th>Graduate_Education</th>\n",
       "      <th>Age_Group_0_29</th>\n",
       "      <th>Age_Group_30_49</th>\n",
       "      <th>Age_Group_50</th>\n",
       "    </tr>\n",
       "  </thead>\n",
       "  <tbody>\n",
       "    <tr>\n",
       "      <th>0</th>\n",
       "      <td>1</td>\n",
       "      <td>JAMMU AND KASHMIR</td>\n",
       "      <td>Kupwara</td>\n",
       "      <td>870354</td>\n",
       "      <td>474190</td>\n",
       "      <td>396164</td>\n",
       "      <td>439654</td>\n",
       "      <td>229064</td>\n",
       "      <td>190899</td>\n",
       "      <td>38165</td>\n",
       "      <td>...</td>\n",
       "      <td>1700</td>\n",
       "      <td>5600</td>\n",
       "      <td>66</td>\n",
       "      <td>39</td>\n",
       "      <td>74948</td>\n",
       "      <td>39709</td>\n",
       "      <td>21751</td>\n",
       "      <td>600759</td>\n",
       "      <td>178435</td>\n",
       "      <td>89679</td>\n",
       "    </tr>\n",
       "    <tr>\n",
       "      <th>1</th>\n",
       "      <td>2</td>\n",
       "      <td>JAMMU AND KASHMIR</td>\n",
       "      <td>Badgam</td>\n",
       "      <td>753745</td>\n",
       "      <td>398041</td>\n",
       "      <td>355704</td>\n",
       "      <td>335649</td>\n",
       "      <td>214866</td>\n",
       "      <td>162578</td>\n",
       "      <td>52288</td>\n",
       "      <td>...</td>\n",
       "      <td>1489</td>\n",
       "      <td>5559</td>\n",
       "      <td>47</td>\n",
       "      <td>6</td>\n",
       "      <td>66459</td>\n",
       "      <td>41367</td>\n",
       "      <td>27950</td>\n",
       "      <td>503223</td>\n",
       "      <td>160933</td>\n",
       "      <td>88978</td>\n",
       "    </tr>\n",
       "    <tr>\n",
       "      <th>2</th>\n",
       "      <td>3</td>\n",
       "      <td>JAMMU AND KASHMIR</td>\n",
       "      <td>Leh(Ladakh)</td>\n",
       "      <td>133487</td>\n",
       "      <td>78971</td>\n",
       "      <td>54516</td>\n",
       "      <td>93770</td>\n",
       "      <td>75079</td>\n",
       "      <td>53265</td>\n",
       "      <td>21814</td>\n",
       "      <td>...</td>\n",
       "      <td>658</td>\n",
       "      <td>1092</td>\n",
       "      <td>88635</td>\n",
       "      <td>103</td>\n",
       "      <td>16265</td>\n",
       "      <td>8923</td>\n",
       "      <td>6197</td>\n",
       "      <td>70703</td>\n",
       "      <td>41515</td>\n",
       "      <td>21019</td>\n",
       "    </tr>\n",
       "    <tr>\n",
       "      <th>3</th>\n",
       "      <td>4</td>\n",
       "      <td>JAMMU AND KASHMIR</td>\n",
       "      <td>Kargil</td>\n",
       "      <td>140802</td>\n",
       "      <td>77785</td>\n",
       "      <td>63017</td>\n",
       "      <td>86236</td>\n",
       "      <td>51873</td>\n",
       "      <td>39839</td>\n",
       "      <td>12034</td>\n",
       "      <td>...</td>\n",
       "      <td>604</td>\n",
       "      <td>1171</td>\n",
       "      <td>20126</td>\n",
       "      <td>28</td>\n",
       "      <td>16938</td>\n",
       "      <td>9826</td>\n",
       "      <td>3077</td>\n",
       "      <td>87532</td>\n",
       "      <td>35561</td>\n",
       "      <td>17488</td>\n",
       "    </tr>\n",
       "    <tr>\n",
       "      <th>4</th>\n",
       "      <td>5</td>\n",
       "      <td>JAMMU AND KASHMIR</td>\n",
       "      <td>Punch</td>\n",
       "      <td>476835</td>\n",
       "      <td>251899</td>\n",
       "      <td>224936</td>\n",
       "      <td>261724</td>\n",
       "      <td>161393</td>\n",
       "      <td>117677</td>\n",
       "      <td>43716</td>\n",
       "      <td>...</td>\n",
       "      <td>958</td>\n",
       "      <td>11188</td>\n",
       "      <td>83</td>\n",
       "      <td>10</td>\n",
       "      <td>46062</td>\n",
       "      <td>29517</td>\n",
       "      <td>13962</td>\n",
       "      <td>304979</td>\n",
       "      <td>109818</td>\n",
       "      <td>61334</td>\n",
       "    </tr>\n",
       "  </tbody>\n",
       "</table>\n",
       "<p>5 rows × 25 columns</p>\n",
       "</div>"
      ],
      "text/plain": [
       "   District_code         State_name District_name  Population    Male  Female  \\\n",
       "0              1  JAMMU AND KASHMIR       Kupwara      870354  474190  396164   \n",
       "1              2  JAMMU AND KASHMIR        Badgam      753745  398041  355704   \n",
       "2              3  JAMMU AND KASHMIR   Leh(Ladakh)      133487   78971   54516   \n",
       "3              4  JAMMU AND KASHMIR        Kargil      140802   77785   63017   \n",
       "4              5  JAMMU AND KASHMIR         Punch      476835  251899  224936   \n",
       "\n",
       "   Literate  Workers  Male_Workers  Female_Workers  ...  Christians  Sikhs  \\\n",
       "0    439654   229064        190899           38165  ...        1700   5600   \n",
       "1    335649   214866        162578           52288  ...        1489   5559   \n",
       "2     93770    75079         53265           21814  ...         658   1092   \n",
       "3     86236    51873         39839           12034  ...         604   1171   \n",
       "4    261724   161393        117677           43716  ...         958  11188   \n",
       "\n",
       "   Buddhists  Jains  Secondary_Education  Higher_Education  \\\n",
       "0         66     39                74948             39709   \n",
       "1         47      6                66459             41367   \n",
       "2      88635    103                16265              8923   \n",
       "3      20126     28                16938              9826   \n",
       "4         83     10                46062             29517   \n",
       "\n",
       "   Graduate_Education  Age_Group_0_29  Age_Group_30_49  Age_Group_50  \n",
       "0               21751          600759           178435         89679  \n",
       "1               27950          503223           160933         88978  \n",
       "2                6197           70703            41515         21019  \n",
       "3                3077           87532            35561         17488  \n",
       "4               13962          304979           109818         61334  \n",
       "\n",
       "[5 rows x 25 columns]"
      ]
     },
     "execution_count": 4,
     "metadata": {},
     "output_type": "execute_result"
    }
   ],
   "source": [
    "df = pd.read_csv('India_census.csv')\n",
    "df.head()"
   ]
  },
  {
   "cell_type": "code",
   "execution_count": 21,
   "metadata": {},
   "outputs": [
    {
     "data": {
      "text/plain": [
       "(640, 25)"
      ]
     },
     "execution_count": 21,
     "metadata": {},
     "output_type": "execute_result"
    }
   ],
   "source": [
    "df.shape"
   ]
  },
  {
   "cell_type": "code",
   "execution_count": 28,
   "metadata": {},
   "outputs": [
    {
     "name": "stdout",
     "output_type": "stream",
     "text": [
      "<class 'pandas.core.frame.DataFrame'>\n",
      "RangeIndex: 640 entries, 0 to 639\n",
      "Data columns (total 25 columns):\n",
      " #   Column                Non-Null Count  Dtype \n",
      "---  ------                --------------  ----- \n",
      " 0   District_code         640 non-null    int64 \n",
      " 1   State_name            640 non-null    object\n",
      " 2   District_name         640 non-null    object\n",
      " 3   Population            640 non-null    int64 \n",
      " 4   Male                  640 non-null    int64 \n",
      " 5   Female                640 non-null    int64 \n",
      " 6   Literate              640 non-null    int64 \n",
      " 7   Workers               640 non-null    int64 \n",
      " 8   Male_Workers          640 non-null    int64 \n",
      " 9   Female_Workers        640 non-null    int64 \n",
      " 10  Cultivator_Workers    640 non-null    int64 \n",
      " 11  Agricultural_Workers  640 non-null    int64 \n",
      " 12  Household_Workers     640 non-null    int64 \n",
      " 13  Hindus                640 non-null    int64 \n",
      " 14  Muslims               640 non-null    int64 \n",
      " 15  Christians            640 non-null    int64 \n",
      " 16  Sikhs                 640 non-null    int64 \n",
      " 17  Buddhists             640 non-null    int64 \n",
      " 18  Jains                 640 non-null    int64 \n",
      " 19  Secondary_Education   640 non-null    int64 \n",
      " 20  Higher_Education      640 non-null    int64 \n",
      " 21  Graduate_Education    640 non-null    int64 \n",
      " 22  Age_Group_0_29        640 non-null    int64 \n",
      " 23  Age_Group_30_49       640 non-null    int64 \n",
      " 24  Age_Group_50          640 non-null    int64 \n",
      "dtypes: int64(23), object(2)\n",
      "memory usage: 125.1+ KB\n"
     ]
    }
   ],
   "source": [
    "df.info()"
   ]
  },
  {
   "cell_type": "code",
   "execution_count": 11,
   "metadata": {},
   "outputs": [
    {
     "data": {
      "text/plain": [
       "(640, 25)"
      ]
     },
     "execution_count": 11,
     "metadata": {},
     "output_type": "execute_result"
    }
   ],
   "source": [
    "df.shape"
   ]
  },
  {
   "cell_type": "markdown",
   "metadata": {},
   "source": [
    "### Find total no.of State names in record"
   ]
  },
  {
   "cell_type": "code",
   "execution_count": 40,
   "metadata": {
    "scrolled": true
   },
   "outputs": [
    {
     "data": {
      "text/plain": [
       "array(['JAMMU AND KASHMIR', 'HIMACHAL PRADESH', 'PUNJAB', 'CHANDIGARH',\n",
       "       'UTTARAKHAND', 'HARYANA', 'NCT OF DELHI', 'RAJASTHAN',\n",
       "       'UTTAR PRADESH', 'BIHAR', 'SIKKIM', 'ARUNACHAL PRADESH',\n",
       "       'NAGALAND', 'MANIPUR', 'MIZORAM', 'TRIPURA', 'MEGHALAYA', 'ASSAM',\n",
       "       'WEST BENGAL', 'JHARKHAND', 'ORISSA', 'CHHATTISGARH',\n",
       "       'MADHYA PRADESH', 'GUJARAT', 'DAMAN AND DIU',\n",
       "       'DADRA AND NAGAR HAVELI', 'MAHARASHTRA', 'ANDHRA PRADESH',\n",
       "       'KARNATAKA', 'GOA', 'LAKSHADWEEP', 'KERALA', 'TAMIL NADU',\n",
       "       'PONDICHERRY', 'ANDAMAN AND NICOBAR ISLANDS'], dtype=object)"
      ]
     },
     "execution_count": 40,
     "metadata": {},
     "output_type": "execute_result"
    }
   ],
   "source": [
    "df['State_name'].unique()"
   ]
  },
  {
   "cell_type": "code",
   "execution_count": 42,
   "metadata": {},
   "outputs": [
    {
     "name": "stdout",
     "output_type": "stream",
     "text": [
      "Total no.of states in India: 35\n"
     ]
    }
   ],
   "source": [
    "state = df['State_name'].unique()\n",
    "print(\"Total no.of states in India:\", len(state))"
   ]
  },
  {
   "cell_type": "markdown",
   "metadata": {},
   "source": [
    "### Find the tamil nadu all datas"
   ]
  },
  {
   "cell_type": "code",
   "execution_count": 29,
   "metadata": {},
   "outputs": [
    {
     "data": {
      "text/html": [
       "<div>\n",
       "<style scoped>\n",
       "    .dataframe tbody tr th:only-of-type {\n",
       "        vertical-align: middle;\n",
       "    }\n",
       "\n",
       "    .dataframe tbody tr th {\n",
       "        vertical-align: top;\n",
       "    }\n",
       "\n",
       "    .dataframe thead th {\n",
       "        text-align: right;\n",
       "    }\n",
       "</style>\n",
       "<table border=\"1\" class=\"dataframe\">\n",
       "  <thead>\n",
       "    <tr style=\"text-align: right;\">\n",
       "      <th></th>\n",
       "      <th>District_code</th>\n",
       "      <th>State_name</th>\n",
       "      <th>District_name</th>\n",
       "      <th>Population</th>\n",
       "      <th>Male</th>\n",
       "      <th>Female</th>\n",
       "      <th>Literate</th>\n",
       "      <th>Workers</th>\n",
       "      <th>Male_Workers</th>\n",
       "      <th>Female_Workers</th>\n",
       "      <th>...</th>\n",
       "      <th>Christians</th>\n",
       "      <th>Sikhs</th>\n",
       "      <th>Buddhists</th>\n",
       "      <th>Jains</th>\n",
       "      <th>Secondary_Education</th>\n",
       "      <th>Higher_Education</th>\n",
       "      <th>Graduate_Education</th>\n",
       "      <th>Age_Group_0_29</th>\n",
       "      <th>Age_Group_30_49</th>\n",
       "      <th>Age_Group_50</th>\n",
       "    </tr>\n",
       "  </thead>\n",
       "  <tbody>\n",
       "    <tr>\n",
       "      <th>601</th>\n",
       "      <td>602</td>\n",
       "      <td>TAMIL NADU</td>\n",
       "      <td>Thiruvallur</td>\n",
       "      <td>3728104</td>\n",
       "      <td>1876062</td>\n",
       "      <td>1852042</td>\n",
       "      <td>2791721</td>\n",
       "      <td>1538054</td>\n",
       "      <td>1103563</td>\n",
       "      <td>434491</td>\n",
       "      <td>...</td>\n",
       "      <td>233633</td>\n",
       "      <td>1422</td>\n",
       "      <td>951</td>\n",
       "      <td>3693</td>\n",
       "      <td>622789</td>\n",
       "      <td>303091</td>\n",
       "      <td>451321</td>\n",
       "      <td>1925296</td>\n",
       "      <td>1154775</td>\n",
       "      <td>643614</td>\n",
       "    </tr>\n",
       "    <tr>\n",
       "      <th>602</th>\n",
       "      <td>603</td>\n",
       "      <td>TAMIL NADU</td>\n",
       "      <td>Chennai</td>\n",
       "      <td>4646732</td>\n",
       "      <td>2335844</td>\n",
       "      <td>2310888</td>\n",
       "      <td>3776276</td>\n",
       "      <td>1817297</td>\n",
       "      <td>1369302</td>\n",
       "      <td>447995</td>\n",
       "      <td>...</td>\n",
       "      <td>358662</td>\n",
       "      <td>2851</td>\n",
       "      <td>2804</td>\n",
       "      <td>51708</td>\n",
       "      <td>801050</td>\n",
       "      <td>464207</td>\n",
       "      <td>905515</td>\n",
       "      <td>2271657</td>\n",
       "      <td>1468902</td>\n",
       "      <td>899279</td>\n",
       "    </tr>\n",
       "    <tr>\n",
       "      <th>603</th>\n",
       "      <td>604</td>\n",
       "      <td>TAMIL NADU</td>\n",
       "      <td>Kancheepuram</td>\n",
       "      <td>3998252</td>\n",
       "      <td>2012958</td>\n",
       "      <td>1985294</td>\n",
       "      <td>3013382</td>\n",
       "      <td>1673814</td>\n",
       "      <td>1181308</td>\n",
       "      <td>492506</td>\n",
       "      <td>...</td>\n",
       "      <td>256762</td>\n",
       "      <td>1620</td>\n",
       "      <td>990</td>\n",
       "      <td>4962</td>\n",
       "      <td>634172</td>\n",
       "      <td>312208</td>\n",
       "      <td>526886</td>\n",
       "      <td>2076492</td>\n",
       "      <td>1200284</td>\n",
       "      <td>715895</td>\n",
       "    </tr>\n",
       "    <tr>\n",
       "      <th>604</th>\n",
       "      <td>605</td>\n",
       "      <td>TAMIL NADU</td>\n",
       "      <td>Vellore</td>\n",
       "      <td>3936331</td>\n",
       "      <td>1961688</td>\n",
       "      <td>1974643</td>\n",
       "      <td>2773928</td>\n",
       "      <td>1689330</td>\n",
       "      <td>1123874</td>\n",
       "      <td>565456</td>\n",
       "      <td>...</td>\n",
       "      <td>111390</td>\n",
       "      <td>676</td>\n",
       "      <td>438</td>\n",
       "      <td>3514</td>\n",
       "      <td>641585</td>\n",
       "      <td>311434</td>\n",
       "      <td>308514</td>\n",
       "      <td>2096113</td>\n",
       "      <td>1116437</td>\n",
       "      <td>720713</td>\n",
       "    </tr>\n",
       "    <tr>\n",
       "      <th>605</th>\n",
       "      <td>606</td>\n",
       "      <td>TAMIL NADU</td>\n",
       "      <td>Tiruvannamalai</td>\n",
       "      <td>2464875</td>\n",
       "      <td>1235889</td>\n",
       "      <td>1228986</td>\n",
       "      <td>1626813</td>\n",
       "      <td>1238177</td>\n",
       "      <td>738995</td>\n",
       "      <td>499182</td>\n",
       "      <td>...</td>\n",
       "      <td>66987</td>\n",
       "      <td>232</td>\n",
       "      <td>157</td>\n",
       "      <td>7898</td>\n",
       "      <td>343955</td>\n",
       "      <td>174560</td>\n",
       "      <td>158041</td>\n",
       "      <td>1301347</td>\n",
       "      <td>683904</td>\n",
       "      <td>477668</td>\n",
       "    </tr>\n",
       "  </tbody>\n",
       "</table>\n",
       "<p>5 rows × 25 columns</p>\n",
       "</div>"
      ],
      "text/plain": [
       "     District_code  State_name   District_name  Population     Male   Female  \\\n",
       "601            602  TAMIL NADU     Thiruvallur     3728104  1876062  1852042   \n",
       "602            603  TAMIL NADU         Chennai     4646732  2335844  2310888   \n",
       "603            604  TAMIL NADU    Kancheepuram     3998252  2012958  1985294   \n",
       "604            605  TAMIL NADU         Vellore     3936331  1961688  1974643   \n",
       "605            606  TAMIL NADU  Tiruvannamalai     2464875  1235889  1228986   \n",
       "\n",
       "     Literate  Workers  Male_Workers  Female_Workers  ...  Christians  Sikhs  \\\n",
       "601   2791721  1538054       1103563          434491  ...      233633   1422   \n",
       "602   3776276  1817297       1369302          447995  ...      358662   2851   \n",
       "603   3013382  1673814       1181308          492506  ...      256762   1620   \n",
       "604   2773928  1689330       1123874          565456  ...      111390    676   \n",
       "605   1626813  1238177        738995          499182  ...       66987    232   \n",
       "\n",
       "     Buddhists  Jains  Secondary_Education  Higher_Education  \\\n",
       "601        951   3693               622789            303091   \n",
       "602       2804  51708               801050            464207   \n",
       "603        990   4962               634172            312208   \n",
       "604        438   3514               641585            311434   \n",
       "605        157   7898               343955            174560   \n",
       "\n",
       "     Graduate_Education  Age_Group_0_29  Age_Group_30_49  Age_Group_50  \n",
       "601              451321         1925296          1154775        643614  \n",
       "602              905515         2271657          1468902        899279  \n",
       "603              526886         2076492          1200284        715895  \n",
       "604              308514         2096113          1116437        720713  \n",
       "605              158041         1301347           683904        477668  \n",
       "\n",
       "[5 rows x 25 columns]"
      ]
     },
     "execution_count": 29,
     "metadata": {},
     "output_type": "execute_result"
    }
   ],
   "source": [
    "tamil = df[df['State_name'] == 'TAMIL NADU']\n",
    "tamil.head()"
   ]
  },
  {
   "cell_type": "markdown",
   "metadata": {},
   "source": [
    "###  Find the null values"
   ]
  },
  {
   "cell_type": "code",
   "execution_count": 20,
   "metadata": {},
   "outputs": [
    {
     "data": {
      "text/plain": [
       "District_code           32\n",
       "State_name              32\n",
       "District_name           32\n",
       "Population              32\n",
       "Male                    32\n",
       "Female                  32\n",
       "Literate                32\n",
       "Workers                 32\n",
       "Male_Workers            32\n",
       "Female_Workers          32\n",
       "Cultivator_Workers      32\n",
       "Agricultural_Workers    32\n",
       "Household_Workers       32\n",
       "Hindus                  32\n",
       "Muslims                 32\n",
       "Christians              32\n",
       "Sikhs                   32\n",
       "Buddhists               32\n",
       "Jains                   32\n",
       "Secondary_Education     32\n",
       "Higher_Education        32\n",
       "Graduate_Education      32\n",
       "Age_Group_0_29          32\n",
       "Age_Group_30_49         32\n",
       "Age_Group_50            32\n",
       "dtype: int64"
      ]
     },
     "execution_count": 20,
     "metadata": {},
     "output_type": "execute_result"
    }
   ],
   "source": [
    "# NO.of  NO-NULL values:\n",
    "tamil.count()"
   ]
  },
  {
   "cell_type": "code",
   "execution_count": 19,
   "metadata": {},
   "outputs": [
    {
     "data": {
      "text/plain": [
       "District_code           0\n",
       "State_name              0\n",
       "District_name           0\n",
       "Population              0\n",
       "Male                    0\n",
       "Female                  0\n",
       "Literate                0\n",
       "Workers                 0\n",
       "Male_Workers            0\n",
       "Female_Workers          0\n",
       "Cultivator_Workers      0\n",
       "Agricultural_Workers    0\n",
       "Household_Workers       0\n",
       "Hindus                  0\n",
       "Muslims                 0\n",
       "Christians              0\n",
       "Sikhs                   0\n",
       "Buddhists               0\n",
       "Jains                   0\n",
       "Secondary_Education     0\n",
       "Higher_Education        0\n",
       "Graduate_Education      0\n",
       "Age_Group_0_29          0\n",
       "Age_Group_30_49         0\n",
       "Age_Group_50            0\n",
       "dtype: int64"
      ]
     },
     "execution_count": 19,
     "metadata": {},
     "output_type": "execute_result"
    }
   ],
   "source": [
    "#No NULL values \n",
    "tamil.isnull().sum()"
   ]
  },
  {
   "cell_type": "markdown",
   "metadata": {},
   "source": [
    "### Find Cultivator workers in  each district and  which district have maximum values"
   ]
  },
  {
   "cell_type": "code",
   "execution_count": 38,
   "metadata": {
    "scrolled": false
   },
   "outputs": [
    {
     "data": {
      "text/plain": [
       "District_name\n",
       "Viluppuram         369646\n",
       "Tiruvannamalai     292641\n",
       "Salem              257004\n",
       "Krishnagiri        236038\n",
       "Pudukkottai        209270\n",
       "Dharmapuri         201328\n",
       "Erode              178170\n",
       "Vellore            175108\n",
       "Ramanathapuram     173767\n",
       "Tiruchirappalli    170669\n",
       "Dindigul           165405\n",
       "Cuddalore          165170\n",
       "Namakkal           158473\n",
       "Sivaganga          141003\n",
       "Tiruppur           135817\n",
       "Thanjavur          129913\n",
       "Perambalur         117304\n",
       "Tirunelveli        115715\n",
       "Ariyalur           107312\n",
       "Madurai             92719\n",
       "Kancheepuram        89343\n",
       "Karur               85872\n",
       "Coimbatore          80217\n",
       "Thiruvallur         73444\n",
       "Thiruvarur          69883\n",
       "Nagapattinam        67482\n",
       "Virudhunagar        57153\n",
       "Thoothukkudi        48515\n",
       "Theni               38367\n",
       "The Nilgiris        15645\n",
       "Kanniyakumari       15610\n",
       "Chennai             14454\n",
       "Name: Cultivator_Workers, dtype: int64"
      ]
     },
     "execution_count": 38,
     "metadata": {},
     "output_type": "execute_result"
    }
   ],
   "source": [
    "tamil.groupby('District_name').Cultivator_Workers.sum().sort_values(ascending=False)"
   ]
  },
  {
   "cell_type": "markdown",
   "metadata": {},
   "source": [
    "### Find the  Hindus  and Whcih State have more hindus"
   ]
  },
  {
   "cell_type": "code",
   "execution_count": 118,
   "metadata": {},
   "outputs": [
    {
     "data": {
      "text/plain": [
       "State_name\n",
       "UTTAR PRADESH     159312654\n",
       "MAHARASHTRA        89703057\n",
       "BIHAR              86078686\n",
       "ANDHRA PRADESH     74824149\n",
       "MADHYA PRADESH     66007121\n",
       "WEST BENGAL        64385546\n",
       "TAMIL NADU         63188168\n",
       "RAJASTHAN          60657103\n",
       "GUJARAT            53533988\n",
       "KARNATAKA          51317472\n",
       "Name: Hindus, dtype: int64"
      ]
     },
     "execution_count": 118,
     "metadata": {},
     "output_type": "execute_result"
    }
   ],
   "source": [
    "#Top 10 Hindus states\n",
    "df.groupby('State_name').Hindus.sum().sort_values(ascending=False).head(10)"
   ]
  },
  {
   "cell_type": "markdown",
   "metadata": {},
   "source": [
    "### whaich religion is more have  in LAKSHADWEEP  "
   ]
  },
  {
   "cell_type": "code",
   "execution_count": 60,
   "metadata": {
    "scrolled": true
   },
   "outputs": [],
   "source": [
    "ld = df[df['State_name'] =='LAKSHADWEEP']"
   ]
  },
  {
   "cell_type": "code",
   "execution_count": 68,
   "metadata": {
    "scrolled": false
   },
   "outputs": [
    {
     "data": {
      "text/html": [
       "<div>\n",
       "<style scoped>\n",
       "    .dataframe tbody tr th:only-of-type {\n",
       "        vertical-align: middle;\n",
       "    }\n",
       "\n",
       "    .dataframe tbody tr th {\n",
       "        vertical-align: top;\n",
       "    }\n",
       "\n",
       "    .dataframe thead th {\n",
       "        text-align: right;\n",
       "    }\n",
       "</style>\n",
       "<table border=\"1\" class=\"dataframe\">\n",
       "  <thead>\n",
       "    <tr style=\"text-align: right;\">\n",
       "      <th></th>\n",
       "      <th>count</th>\n",
       "      <th>mean</th>\n",
       "      <th>std</th>\n",
       "      <th>min</th>\n",
       "      <th>25%</th>\n",
       "      <th>50%</th>\n",
       "      <th>75%</th>\n",
       "      <th>max</th>\n",
       "    </tr>\n",
       "  </thead>\n",
       "  <tbody>\n",
       "    <tr>\n",
       "      <th>District_code</th>\n",
       "      <td>1.0</td>\n",
       "      <td>587.0</td>\n",
       "      <td>NaN</td>\n",
       "      <td>587.0</td>\n",
       "      <td>587.0</td>\n",
       "      <td>587.0</td>\n",
       "      <td>587.0</td>\n",
       "      <td>587.0</td>\n",
       "    </tr>\n",
       "    <tr>\n",
       "      <th>Population</th>\n",
       "      <td>1.0</td>\n",
       "      <td>64473.0</td>\n",
       "      <td>NaN</td>\n",
       "      <td>64473.0</td>\n",
       "      <td>64473.0</td>\n",
       "      <td>64473.0</td>\n",
       "      <td>64473.0</td>\n",
       "      <td>64473.0</td>\n",
       "    </tr>\n",
       "    <tr>\n",
       "      <th>Male</th>\n",
       "      <td>1.0</td>\n",
       "      <td>33123.0</td>\n",
       "      <td>NaN</td>\n",
       "      <td>33123.0</td>\n",
       "      <td>33123.0</td>\n",
       "      <td>33123.0</td>\n",
       "      <td>33123.0</td>\n",
       "      <td>33123.0</td>\n",
       "    </tr>\n",
       "    <tr>\n",
       "      <th>Female</th>\n",
       "      <td>1.0</td>\n",
       "      <td>31350.0</td>\n",
       "      <td>NaN</td>\n",
       "      <td>31350.0</td>\n",
       "      <td>31350.0</td>\n",
       "      <td>31350.0</td>\n",
       "      <td>31350.0</td>\n",
       "      <td>31350.0</td>\n",
       "    </tr>\n",
       "    <tr>\n",
       "      <th>Literate</th>\n",
       "      <td>1.0</td>\n",
       "      <td>52553.0</td>\n",
       "      <td>NaN</td>\n",
       "      <td>52553.0</td>\n",
       "      <td>52553.0</td>\n",
       "      <td>52553.0</td>\n",
       "      <td>52553.0</td>\n",
       "      <td>52553.0</td>\n",
       "    </tr>\n",
       "    <tr>\n",
       "      <th>Workers</th>\n",
       "      <td>1.0</td>\n",
       "      <td>18753.0</td>\n",
       "      <td>NaN</td>\n",
       "      <td>18753.0</td>\n",
       "      <td>18753.0</td>\n",
       "      <td>18753.0</td>\n",
       "      <td>18753.0</td>\n",
       "      <td>18753.0</td>\n",
       "    </tr>\n",
       "    <tr>\n",
       "      <th>Male_Workers</th>\n",
       "      <td>1.0</td>\n",
       "      <td>15318.0</td>\n",
       "      <td>NaN</td>\n",
       "      <td>15318.0</td>\n",
       "      <td>15318.0</td>\n",
       "      <td>15318.0</td>\n",
       "      <td>15318.0</td>\n",
       "      <td>15318.0</td>\n",
       "    </tr>\n",
       "    <tr>\n",
       "      <th>Female_Workers</th>\n",
       "      <td>1.0</td>\n",
       "      <td>3435.0</td>\n",
       "      <td>NaN</td>\n",
       "      <td>3435.0</td>\n",
       "      <td>3435.0</td>\n",
       "      <td>3435.0</td>\n",
       "      <td>3435.0</td>\n",
       "      <td>3435.0</td>\n",
       "    </tr>\n",
       "    <tr>\n",
       "      <th>Cultivator_Workers</th>\n",
       "      <td>1.0</td>\n",
       "      <td>0.0</td>\n",
       "      <td>NaN</td>\n",
       "      <td>0.0</td>\n",
       "      <td>0.0</td>\n",
       "      <td>0.0</td>\n",
       "      <td>0.0</td>\n",
       "      <td>0.0</td>\n",
       "    </tr>\n",
       "    <tr>\n",
       "      <th>Agricultural_Workers</th>\n",
       "      <td>1.0</td>\n",
       "      <td>0.0</td>\n",
       "      <td>NaN</td>\n",
       "      <td>0.0</td>\n",
       "      <td>0.0</td>\n",
       "      <td>0.0</td>\n",
       "      <td>0.0</td>\n",
       "      <td>0.0</td>\n",
       "    </tr>\n",
       "    <tr>\n",
       "      <th>Household_Workers</th>\n",
       "      <td>1.0</td>\n",
       "      <td>264.0</td>\n",
       "      <td>NaN</td>\n",
       "      <td>264.0</td>\n",
       "      <td>264.0</td>\n",
       "      <td>264.0</td>\n",
       "      <td>264.0</td>\n",
       "      <td>264.0</td>\n",
       "    </tr>\n",
       "    <tr>\n",
       "      <th>Hindus</th>\n",
       "      <td>1.0</td>\n",
       "      <td>1788.0</td>\n",
       "      <td>NaN</td>\n",
       "      <td>1788.0</td>\n",
       "      <td>1788.0</td>\n",
       "      <td>1788.0</td>\n",
       "      <td>1788.0</td>\n",
       "      <td>1788.0</td>\n",
       "    </tr>\n",
       "    <tr>\n",
       "      <th>Muslims</th>\n",
       "      <td>1.0</td>\n",
       "      <td>62268.0</td>\n",
       "      <td>NaN</td>\n",
       "      <td>62268.0</td>\n",
       "      <td>62268.0</td>\n",
       "      <td>62268.0</td>\n",
       "      <td>62268.0</td>\n",
       "      <td>62268.0</td>\n",
       "    </tr>\n",
       "    <tr>\n",
       "      <th>Christians</th>\n",
       "      <td>1.0</td>\n",
       "      <td>317.0</td>\n",
       "      <td>NaN</td>\n",
       "      <td>317.0</td>\n",
       "      <td>317.0</td>\n",
       "      <td>317.0</td>\n",
       "      <td>317.0</td>\n",
       "      <td>317.0</td>\n",
       "    </tr>\n",
       "    <tr>\n",
       "      <th>Sikhs</th>\n",
       "      <td>1.0</td>\n",
       "      <td>8.0</td>\n",
       "      <td>NaN</td>\n",
       "      <td>8.0</td>\n",
       "      <td>8.0</td>\n",
       "      <td>8.0</td>\n",
       "      <td>8.0</td>\n",
       "      <td>8.0</td>\n",
       "    </tr>\n",
       "    <tr>\n",
       "      <th>Buddhists</th>\n",
       "      <td>1.0</td>\n",
       "      <td>10.0</td>\n",
       "      <td>NaN</td>\n",
       "      <td>10.0</td>\n",
       "      <td>10.0</td>\n",
       "      <td>10.0</td>\n",
       "      <td>10.0</td>\n",
       "      <td>10.0</td>\n",
       "    </tr>\n",
       "    <tr>\n",
       "      <th>Jains</th>\n",
       "      <td>1.0</td>\n",
       "      <td>11.0</td>\n",
       "      <td>NaN</td>\n",
       "      <td>11.0</td>\n",
       "      <td>11.0</td>\n",
       "      <td>11.0</td>\n",
       "      <td>11.0</td>\n",
       "      <td>11.0</td>\n",
       "    </tr>\n",
       "    <tr>\n",
       "      <th>Secondary_Education</th>\n",
       "      <td>1.0</td>\n",
       "      <td>13997.0</td>\n",
       "      <td>NaN</td>\n",
       "      <td>13997.0</td>\n",
       "      <td>13997.0</td>\n",
       "      <td>13997.0</td>\n",
       "      <td>13997.0</td>\n",
       "      <td>13997.0</td>\n",
       "    </tr>\n",
       "    <tr>\n",
       "      <th>Higher_Education</th>\n",
       "      <td>1.0</td>\n",
       "      <td>6642.0</td>\n",
       "      <td>NaN</td>\n",
       "      <td>6642.0</td>\n",
       "      <td>6642.0</td>\n",
       "      <td>6642.0</td>\n",
       "      <td>6642.0</td>\n",
       "      <td>6642.0</td>\n",
       "    </tr>\n",
       "    <tr>\n",
       "      <th>Graduate_Education</th>\n",
       "      <td>1.0</td>\n",
       "      <td>3491.0</td>\n",
       "      <td>NaN</td>\n",
       "      <td>3491.0</td>\n",
       "      <td>3491.0</td>\n",
       "      <td>3491.0</td>\n",
       "      <td>3491.0</td>\n",
       "      <td>3491.0</td>\n",
       "    </tr>\n",
       "    <tr>\n",
       "      <th>Age_Group_0_29</th>\n",
       "      <td>1.0</td>\n",
       "      <td>33877.0</td>\n",
       "      <td>NaN</td>\n",
       "      <td>33877.0</td>\n",
       "      <td>33877.0</td>\n",
       "      <td>33877.0</td>\n",
       "      <td>33877.0</td>\n",
       "      <td>33877.0</td>\n",
       "    </tr>\n",
       "    <tr>\n",
       "      <th>Age_Group_30_49</th>\n",
       "      <td>1.0</td>\n",
       "      <td>19244.0</td>\n",
       "      <td>NaN</td>\n",
       "      <td>19244.0</td>\n",
       "      <td>19244.0</td>\n",
       "      <td>19244.0</td>\n",
       "      <td>19244.0</td>\n",
       "      <td>19244.0</td>\n",
       "    </tr>\n",
       "    <tr>\n",
       "      <th>Age_Group_50</th>\n",
       "      <td>1.0</td>\n",
       "      <td>11237.0</td>\n",
       "      <td>NaN</td>\n",
       "      <td>11237.0</td>\n",
       "      <td>11237.0</td>\n",
       "      <td>11237.0</td>\n",
       "      <td>11237.0</td>\n",
       "      <td>11237.0</td>\n",
       "    </tr>\n",
       "  </tbody>\n",
       "</table>\n",
       "</div>"
      ],
      "text/plain": [
       "                      count     mean  std      min      25%      50%      75%  \\\n",
       "District_code           1.0    587.0  NaN    587.0    587.0    587.0    587.0   \n",
       "Population              1.0  64473.0  NaN  64473.0  64473.0  64473.0  64473.0   \n",
       "Male                    1.0  33123.0  NaN  33123.0  33123.0  33123.0  33123.0   \n",
       "Female                  1.0  31350.0  NaN  31350.0  31350.0  31350.0  31350.0   \n",
       "Literate                1.0  52553.0  NaN  52553.0  52553.0  52553.0  52553.0   \n",
       "Workers                 1.0  18753.0  NaN  18753.0  18753.0  18753.0  18753.0   \n",
       "Male_Workers            1.0  15318.0  NaN  15318.0  15318.0  15318.0  15318.0   \n",
       "Female_Workers          1.0   3435.0  NaN   3435.0   3435.0   3435.0   3435.0   \n",
       "Cultivator_Workers      1.0      0.0  NaN      0.0      0.0      0.0      0.0   \n",
       "Agricultural_Workers    1.0      0.0  NaN      0.0      0.0      0.0      0.0   \n",
       "Household_Workers       1.0    264.0  NaN    264.0    264.0    264.0    264.0   \n",
       "Hindus                  1.0   1788.0  NaN   1788.0   1788.0   1788.0   1788.0   \n",
       "Muslims                 1.0  62268.0  NaN  62268.0  62268.0  62268.0  62268.0   \n",
       "Christians              1.0    317.0  NaN    317.0    317.0    317.0    317.0   \n",
       "Sikhs                   1.0      8.0  NaN      8.0      8.0      8.0      8.0   \n",
       "Buddhists               1.0     10.0  NaN     10.0     10.0     10.0     10.0   \n",
       "Jains                   1.0     11.0  NaN     11.0     11.0     11.0     11.0   \n",
       "Secondary_Education     1.0  13997.0  NaN  13997.0  13997.0  13997.0  13997.0   \n",
       "Higher_Education        1.0   6642.0  NaN   6642.0   6642.0   6642.0   6642.0   \n",
       "Graduate_Education      1.0   3491.0  NaN   3491.0   3491.0   3491.0   3491.0   \n",
       "Age_Group_0_29          1.0  33877.0  NaN  33877.0  33877.0  33877.0  33877.0   \n",
       "Age_Group_30_49         1.0  19244.0  NaN  19244.0  19244.0  19244.0  19244.0   \n",
       "Age_Group_50            1.0  11237.0  NaN  11237.0  11237.0  11237.0  11237.0   \n",
       "\n",
       "                          max  \n",
       "District_code           587.0  \n",
       "Population            64473.0  \n",
       "Male                  33123.0  \n",
       "Female                31350.0  \n",
       "Literate              52553.0  \n",
       "Workers               18753.0  \n",
       "Male_Workers          15318.0  \n",
       "Female_Workers         3435.0  \n",
       "Cultivator_Workers        0.0  \n",
       "Agricultural_Workers      0.0  \n",
       "Household_Workers       264.0  \n",
       "Hindus                 1788.0  \n",
       "Muslims               62268.0  \n",
       "Christians              317.0  \n",
       "Sikhs                     8.0  \n",
       "Buddhists                10.0  \n",
       "Jains                    11.0  \n",
       "Secondary_Education   13997.0  \n",
       "Higher_Education       6642.0  \n",
       "Graduate_Education     3491.0  \n",
       "Age_Group_0_29        33877.0  \n",
       "Age_Group_30_49       19244.0  \n",
       "Age_Group_50          11237.0  "
      ]
     },
     "execution_count": 68,
     "metadata": {},
     "output_type": "execute_result"
    }
   ],
   "source": [
    "ld.describe().transpose()"
   ]
  },
  {
   "cell_type": "markdown",
   "metadata": {},
   "source": [
    "### More Muslims are live in lakshdweep"
   ]
  },
  {
   "cell_type": "markdown",
   "metadata": {},
   "source": [
    "### Which district has more males"
   ]
  },
  {
   "cell_type": "code",
   "execution_count": 84,
   "metadata": {},
   "outputs": [
    {
     "data": {
      "text/plain": [
       "District_name\n",
       "Thane                         5865078\n",
       "North Twenty Four Parganas    5119389\n",
       "Mumbai Suburban               5031323\n",
       "Bangalore                     5022661\n",
       "Pune                          4924105\n",
       "South Twenty Four Parganas    4173778\n",
       "Barddhaman                    3966889\n",
       "Ahmadabad                     3788051\n",
       "Murshidabad                   3627564\n",
       "Jaipur                        3468507\n",
       "Name: Male, dtype: int64"
      ]
     },
     "execution_count": 84,
     "metadata": {},
     "output_type": "execute_result"
    }
   ],
   "source": [
    "#Top 10 values\n",
    "df.groupby('District_name').Male.sum().sort_values(ascending=False).head(10)"
   ]
  },
  {
   "cell_type": "markdown",
   "metadata": {},
   "source": [
    "### Which district has more pupolation"
   ]
  },
  {
   "cell_type": "code",
   "execution_count": 92,
   "metadata": {},
   "outputs": [
    {
     "data": {
      "text/plain": [
       "District_name\n",
       "Thane                         11060148\n",
       "North Twenty Four Parganas    10009781\n",
       "Bangalore                      9621551\n",
       "Pune                           9429408\n",
       "Mumbai Suburban                9356962\n",
       "                                ...   \n",
       "Nicobars                         36842\n",
       "Upper Siang                      35320\n",
       "Lahul AND Spiti                  31564\n",
       "Anjaw                            21167\n",
       "Dibang Valley                     8004\n",
       "Name: Population, Length: 634, dtype: int64"
      ]
     },
     "execution_count": 92,
     "metadata": {},
     "output_type": "execute_result"
    }
   ],
   "source": [
    "df.groupby('District_name').Population.sum().sort_values(ascending=False)"
   ]
  },
  {
   "cell_type": "code",
   "execution_count": 89,
   "metadata": {
    "scrolled": true
   },
   "outputs": [
    {
     "data": {
      "text/html": [
       "<div>\n",
       "<style scoped>\n",
       "    .dataframe tbody tr th:only-of-type {\n",
       "        vertical-align: middle;\n",
       "    }\n",
       "\n",
       "    .dataframe tbody tr th {\n",
       "        vertical-align: top;\n",
       "    }\n",
       "\n",
       "    .dataframe thead th {\n",
       "        text-align: right;\n",
       "    }\n",
       "</style>\n",
       "<table border=\"1\" class=\"dataframe\">\n",
       "  <thead>\n",
       "    <tr style=\"text-align: right;\">\n",
       "      <th></th>\n",
       "      <th>District_code</th>\n",
       "      <th>State_name</th>\n",
       "      <th>District_name</th>\n",
       "      <th>Population</th>\n",
       "      <th>Male</th>\n",
       "      <th>Female</th>\n",
       "      <th>Literate</th>\n",
       "      <th>Workers</th>\n",
       "      <th>Male_Workers</th>\n",
       "      <th>Female_Workers</th>\n",
       "      <th>...</th>\n",
       "      <th>Christians</th>\n",
       "      <th>Sikhs</th>\n",
       "      <th>Buddhists</th>\n",
       "      <th>Jains</th>\n",
       "      <th>Secondary_Education</th>\n",
       "      <th>Higher_Education</th>\n",
       "      <th>Graduate_Education</th>\n",
       "      <th>Age_Group_0_29</th>\n",
       "      <th>Age_Group_30_49</th>\n",
       "      <th>Age_Group_50</th>\n",
       "    </tr>\n",
       "  </thead>\n",
       "  <tbody>\n",
       "    <tr>\n",
       "      <th>516</th>\n",
       "      <td>517</td>\n",
       "      <td>MAHARASHTRA</td>\n",
       "      <td>Thane</td>\n",
       "      <td>11060148</td>\n",
       "      <td>5865078</td>\n",
       "      <td>5195070</td>\n",
       "      <td>8227161</td>\n",
       "      <td>4492767</td>\n",
       "      <td>3363123</td>\n",
       "      <td>1129644</td>\n",
       "      <td>...</td>\n",
       "      <td>280700</td>\n",
       "      <td>39149</td>\n",
       "      <td>449617</td>\n",
       "      <td>172052</td>\n",
       "      <td>1751284</td>\n",
       "      <td>1080597</td>\n",
       "      <td>961719</td>\n",
       "      <td>6184519</td>\n",
       "      <td>3241888</td>\n",
       "      <td>1579921</td>\n",
       "    </tr>\n",
       "  </tbody>\n",
       "</table>\n",
       "<p>1 rows × 25 columns</p>\n",
       "</div>"
      ],
      "text/plain": [
       "     District_code   State_name District_name  Population     Male   Female  \\\n",
       "516            517  MAHARASHTRA         Thane    11060148  5865078  5195070   \n",
       "\n",
       "     Literate  Workers  Male_Workers  Female_Workers  ...  Christians  Sikhs  \\\n",
       "516   8227161  4492767       3363123         1129644  ...      280700  39149   \n",
       "\n",
       "     Buddhists   Jains  Secondary_Education  Higher_Education  \\\n",
       "516     449617  172052              1751284           1080597   \n",
       "\n",
       "     Graduate_Education  Age_Group_0_29  Age_Group_30_49  Age_Group_50  \n",
       "516              961719         6184519          3241888       1579921  \n",
       "\n",
       "[1 rows x 25 columns]"
      ]
     },
     "execution_count": 89,
     "metadata": {},
     "output_type": "execute_result"
    }
   ],
   "source": [
    "# where is the Thane district located  in Maharashtra\n",
    "df[df['District_name'] =='Thane']"
   ]
  },
  {
   "cell_type": "markdown",
   "metadata": {},
   "source": [
    "### which state has more population"
   ]
  },
  {
   "cell_type": "code",
   "execution_count": 94,
   "metadata": {
    "scrolled": false
   },
   "outputs": [
    {
     "data": {
      "text/plain": [
       "State_name\n",
       "UTTAR PRADESH        199812341\n",
       "MAHARASHTRA          112374333\n",
       "BIHAR                104099452\n",
       "WEST BENGAL           91276115\n",
       "ANDHRA PRADESH        84580777\n",
       "MADHYA PRADESH        72626809\n",
       "TAMIL NADU            72147030\n",
       "RAJASTHAN             68548437\n",
       "KARNATAKA             61095297\n",
       "GUJARAT               60439692\n",
       "ORISSA                41974218\n",
       "KERALA                33406061\n",
       "JHARKHAND             32988134\n",
       "ASSAM                 31205576\n",
       "PUNJAB                27743338\n",
       "CHHATTISGARH          25545198\n",
       "HARYANA               25351462\n",
       "NCT OF DELHI          16787941\n",
       "JAMMU AND KASHMIR     12541302\n",
       "UTTARAKHAND           10086292\n",
       "Name: Population, dtype: int64"
      ]
     },
     "execution_count": 94,
     "metadata": {},
     "output_type": "execute_result"
    }
   ],
   "source": [
    "#Top 20 states population\n",
    "df.groupby('State_name').Population.sum().sort_values(ascending=False).head(20)"
   ]
  },
  {
   "cell_type": "markdown",
   "metadata": {
    "scrolled": true
   },
   "source": [
    "### Which District has more  Household Workers in Tamilnadu\n"
   ]
  },
  {
   "cell_type": "code",
   "execution_count": 96,
   "metadata": {},
   "outputs": [
    {
     "data": {
      "text/plain": [
       "District_name\n",
       "Tirunelveli        239664\n",
       "Salem              141503\n",
       "Vellore            136415\n",
       "Thiruvallur         58240\n",
       "Kancheepuram        54732\n",
       "Erode               54322\n",
       "Coimbatore          50085\n",
       "Madurai             47293\n",
       "Tiruvannamalai      46720\n",
       "Tiruppur            40988\n",
       "Namakkal            38797\n",
       "Viluppuram          38237\n",
       "Chennai             37345\n",
       "Kanniyakumari       35789\n",
       "Virudhunagar        35298\n",
       "Cuddalore           32027\n",
       "Thanjavur           31200\n",
       "Dindigul            30829\n",
       "Tiruchirappalli     30386\n",
       "Ramanathapuram      25228\n",
       "Thoothukkudi        22863\n",
       "Krishnagiri         21918\n",
       "Dharmapuri          15341\n",
       "Theni               14939\n",
       "Sivaganga           14656\n",
       "Pudukkottai         13941\n",
       "Ariyalur            13564\n",
       "Nagapattinam        11555\n",
       "Karur               11340\n",
       "Thiruvarur          10440\n",
       "Perambalur           5343\n",
       "The Nilgiris         3895\n",
       "Name: Household_Workers, dtype: int64"
      ]
     },
     "execution_count": 96,
     "metadata": {},
     "output_type": "execute_result"
    }
   ],
   "source": [
    "tamil.groupby('District_name').Household_Workers.sum().sort_values(ascending=False)"
   ]
  },
  {
   "cell_type": "markdown",
   "metadata": {},
   "source": [
    "### Which District has more Agricultural Workers in Tamilnadu"
   ]
  },
  {
   "cell_type": "code",
   "execution_count": 98,
   "metadata": {},
   "outputs": [
    {
     "data": {
      "text/plain": [
       "District_name\n",
       "Viluppuram         832213\n",
       "Cuddalore          539412\n",
       "Tiruvannamalai     525063\n",
       "Dindigul           467959\n",
       "Salem              454210\n",
       "Thanjavur          415361\n",
       "Vellore            391955\n",
       "Tirunelveli        379763\n",
       "Tiruchirappalli    378782\n",
       "Madurai            372828\n",
       "Erode              370212\n",
       "Nagapattinam       345057\n",
       "Theni              315161\n",
       "Pudukkottai        305149\n",
       "Thiruvarur         295188\n",
       "Kancheepuram       272514\n",
       "Thiruvallur        270586\n",
       "Dharmapuri         267345\n",
       "Krishnagiri        263328\n",
       "Namakkal           253726\n",
       "Tiruppur           246333\n",
       "Coimbatore         230026\n",
       "Virudhunagar       208702\n",
       "Karur              200837\n",
       "Thoothukkudi       200644\n",
       "Sivaganga          199563\n",
       "Ariyalur           166837\n",
       "Ramanathapuram     153874\n",
       "Perambalur         118278\n",
       "The Nilgiris        79100\n",
       "Kanniyakumari       72867\n",
       "Chennai             13674\n",
       "Name: Agricultural_Workers, dtype: int64"
      ]
     },
     "execution_count": 98,
     "metadata": {},
     "output_type": "execute_result"
    }
   ],
   "source": [
    "tamil.groupby('District_name').Agricultural_Workers.sum().sort_values(ascending=False)"
   ]
  },
  {
   "cell_type": "markdown",
   "metadata": {},
   "source": [
    "### which states has more Literate"
   ]
  },
  {
   "cell_type": "code",
   "execution_count": 104,
   "metadata": {
    "scrolled": false
   },
   "outputs": [
    {
     "data": {
      "text/plain": [
       "State_name\n",
       "UTTAR PRADESH                  114397555\n",
       "MAHARASHTRA                     81554290\n",
       "WEST BENGAL                     61538281\n",
       "BIHAR                           52504553\n",
       "TAMIL NADU                      51837507\n",
       "ANDHRA PRADESH                  50556760\n",
       "MADHYA PRADESH                  42851169\n",
       "GUJARAT                         41093358\n",
       "KARNATAKA                       40647322\n",
       "RAJASTHAN                       38275282\n",
       "KERALA                          28135824\n",
       "ORISSA                          26742595\n",
       "ASSAM                           19177977\n",
       "PUNJAB                          18707137\n",
       "JHARKHAND                       18328069\n",
       "HARYANA                         16598988\n",
       "CHHATTISGARH                    15379922\n",
       "NCT OF DELHI                    12737767\n",
       "JAMMU AND KASHMIR                7067233\n",
       "UTTARAKHAND                      6880953\n",
       "HIMACHAL PRADESH                 5039736\n",
       "TRIPURA                          2804783\n",
       "MANIPUR                          1908476\n",
       "MEGHALAYA                        1785005\n",
       "NAGALAND                         1342434\n",
       "GOA                              1165487\n",
       "PONDICHERRY                       957309\n",
       "MIZORAM                           848175\n",
       "CHANDIGARH                        805438\n",
       "ARUNACHAL PRADESH                 766005\n",
       "SIKKIM                            444952\n",
       "ANDAMAN AND NICOBAR ISLANDS       294281\n",
       "DADRA AND NAGAR HAVELI            223230\n",
       "DAMAN AND DIU                     188406\n",
       "LAKSHADWEEP                        52553\n",
       "Name: Literate, dtype: int64"
      ]
     },
     "execution_count": 104,
     "metadata": {},
     "output_type": "execute_result"
    }
   ],
   "source": [
    "df.groupby('State_name').Literate.sum().sort_values(ascending=False)"
   ]
  },
  {
   "cell_type": "markdown",
   "metadata": {},
   "source": [
    "### Which district has more literates in tamilnadu "
   ]
  },
  {
   "cell_type": "code",
   "execution_count": 106,
   "metadata": {},
   "outputs": [
    {
     "data": {
      "text/plain": [
       "District_name\n",
       "Chennai            3776276\n",
       "Kancheepuram       3013382\n",
       "Thiruvallur        2791721\n",
       "Vellore            2773928\n",
       "Coimbatore         2635907\n",
       "Salem              2285562\n",
       "Tirunelveli        2273457\n",
       "Madurai            2273430\n",
       "Viluppuram         2195776\n",
       "Tiruchirappalli    2038981\n",
       "Cuddalore          1815281\n",
       "Thanjavur          1790998\n",
       "Tiruppur           1760566\n",
       "Tiruvannamalai     1626813\n",
       "Kanniyakumari      1548738\n",
       "Erode              1492662\n",
       "Dindigul           1481834\n",
       "Virudhunagar       1398788\n",
       "Thoothukkudi       1349697\n",
       "Nagapattinam       1213008\n",
       "Krishnagiri        1187958\n",
       "Namakkal           1176131\n",
       "Pudukkottai        1110545\n",
       "Ramanathapuram      978946\n",
       "Sivaganga           959744\n",
       "Thiruvarur          946471\n",
       "Dharmapuri          917709\n",
       "Theni               870080\n",
       "Karur               727044\n",
       "The Nilgiris        569647\n",
       "Ariyalur            480604\n",
       "Perambalur          375823\n",
       "Name: Literate, dtype: int64"
      ]
     },
     "execution_count": 106,
     "metadata": {},
     "output_type": "execute_result"
    }
   ],
   "source": [
    "tamil.groupby('District_name').Literate.sum().sort_values(ascending=False)"
   ]
  }
 ],
 "metadata": {
  "kernelspec": {
   "display_name": "Python 3",
   "language": "python",
   "name": "python3"
  },
  "language_info": {
   "codemirror_mode": {
    "name": "ipython",
    "version": 3
   },
   "file_extension": ".py",
   "mimetype": "text/x-python",
   "name": "python",
   "nbconvert_exporter": "python",
   "pygments_lexer": "ipython3",
   "version": "3.8.5"
  }
 },
 "nbformat": 4,
 "nbformat_minor": 4
}
